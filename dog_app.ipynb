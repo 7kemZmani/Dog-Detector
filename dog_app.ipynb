{
 "cells": [
  {
   "cell_type": "markdown",
   "metadata": {},
   "source": [
    "# Convolutional Neural Networks\n",
    "\n",
    "## Project: Write an Algorithm for a Dog Identification App \n",
    "\n",
    "---\n",
    "\n",
    "In this notebook, some template code has already been provided for you, and you will need to implement additional functionality to successfully complete this project. You will not need to modify the included code beyond what is requested. Sections that begin with **'(IMPLEMENTATION)'** in the header indicate that the following block of code will require additional functionality which you must provide. Instructions will be provided for each section, and the specifics of the implementation are marked in the code block with a 'TODO' statement. Please be sure to read the instructions carefully! \n",
    "\n",
    "> **Note**: Once you have completed all of the code implementations, you need to finalize your work by exporting the Jupyter Notebook as an HTML document. Before exporting the notebook to html, all of the code cells need to have been run so that reviewers can see the final implementation and output. You can then export the notebook by using the menu above and navigating to **File -> Download as -> HTML (.html)**. Include the finished document along with this notebook as your submission.\n",
    "\n",
    "In addition to implementing code, there will be questions that you must answer which relate to the project and your implementation. Each section where you will answer a question is preceded by a **'Question X'** header. Carefully read each question and provide thorough answers in the following text boxes that begin with **'Answer:'**. Your project submission will be evaluated based on your answers to each of the questions and the implementation you provide.\n",
    "\n",
    ">**Note:** Code and Markdown cells can be executed using the **Shift + Enter** keyboard shortcut.  Markdown cells can be edited by double-clicking the cell to enter edit mode.\n",
    "\n",
    "The rubric contains _optional_ \"Stand Out Suggestions\" for enhancing the project beyond the minimum requirements. If you decide to pursue the \"Stand Out Suggestions\", you should include the code in this Jupyter notebook.\n",
    "\n",
    "\n",
    "\n",
    "---\n",
    "### Why We're Here \n",
    "\n",
    "In this notebook, you will make the first steps towards developing an algorithm that could be used as part of a mobile or web app.  At the end of this project, your code will accept any user-supplied image as input.  If a dog is detected in the image, it will provide an estimate of the dog's breed.  If a human is detected, it will provide an estimate of the dog breed that is most resembling.  The image below displays potential sample output of your finished project (... but we expect that each student's algorithm will behave differently!). \n",
    "\n",
    "![Sample Dog Output](images/sample_dog_output.png)\n",
    "\n",
    "In this real-world setting, you will need to piece together a series of models to perform different tasks; for instance, the algorithm that detects humans in an image will be different from the CNN that infers dog breed.  There are many points of possible failure, and no perfect algorithm exists.  Your imperfect solution will nonetheless create a fun user experience!\n",
    "\n",
    "### The Road Ahead\n",
    "\n",
    "We break the notebook into separate steps.  Feel free to use the links below to navigate the notebook.\n",
    "\n",
    "* [Step 0](#step0): Import Datasets\n",
    "* [Step 1](#step1): Detect Humans\n",
    "* [Step 2](#step2): Detect Dogs\n",
    "* [Step 3](#step3): Create a CNN to Classify Dog Breeds (from Scratch)\n",
    "* [Step 4](#step4): Create a CNN to Classify Dog Breeds (using Transfer Learning)\n",
    "* [Step 5](#step5): Write your Algorithm\n",
    "* [Step 6](#step6): Test Your Algorithm\n",
    "\n",
    "---\n",
    "<a id='step0'></a>\n",
    "## Step 0: Import Datasets\n",
    "\n",
    "Make sure that you've downloaded the required human and dog datasets:\n",
    "* Download the [dog dataset](https://s3-us-west-1.amazonaws.com/udacity-aind/dog-project/dogImages.zip).  Unzip the folder and place it in this project's home directory, at the location `/dogImages`. \n",
    "\n",
    "* Download the [human dataset](https://s3-us-west-1.amazonaws.com/udacity-aind/dog-project/lfw.zip).  Unzip the folder and place it in the home directory, at location `/lfw`.  \n",
    "\n",
    "*Note: If you are using a Windows machine, you are encouraged to use [7zip](http://www.7-zip.org/) to extract the folder.*\n",
    "\n",
    "In the code cell below, we save the file paths for both the human (LFW) dataset and dog dataset in the numpy arrays `human_files` and `dog_files`."
   ]
  },
  {
   "cell_type": "code",
   "execution_count": 2,
   "metadata": {},
   "outputs": [],
   "source": [
    "from tqdm import tqdm\n",
    "from timeit import default_timer as timer\n",
    "from datetime import timedelta\n",
    "import numpy as np\n",
    "from skimage import io\n",
    "from pathlib import Path\n",
    "from itertools import chain, combinations\n",
    "from PIL import Image\n",
    "import matplotlib.pyplot as plt\n",
    "import torch\n",
    "from torch.utils.data import Dataset, DataLoader\n",
    "import torchvision\n",
    "from torchvision import transforms, utils, models\n",
    "from mtcnn.mtcnn import MTCNN\n",
    "import tensorflow as tf\n",
    "import logging\n",
    "tf.get_logger().setLevel(logging.ERROR)"
   ]
  },
  {
   "cell_type": "code",
   "execution_count": 3,
   "metadata": {},
   "outputs": [],
   "source": [
    "class JPGImageDataset(Dataset):\n",
    "    \"\"\" A utility class to read jpg images in a direcotry \"\"\"\n",
    "\n",
    "    def __init__(self, root_dir='.'):\n",
    "        \"\"\"\n",
    "        Args:\n",
    "            root_dir (string): Directory with all the images.\n",
    "            transform (callable, optional): Optional transform to be applied\n",
    "                on a sample.\n",
    "        \"\"\"\n",
    "        self.root_dir = Path(root_dir).absolute()\n",
    "        self.images = list(self.root_dir.glob('**/*.jpg'))\n",
    "\n",
    "    def __getitem__(self, index):\n",
    "        images = self.images[index]\n",
    "        images = [io.imread(m) for m in images] if type(images) is list else io.imread(images)\n",
    "\n",
    "        return images\n",
    "\n",
    "    def __len__(self):\n",
    "        return len(self.images)"
   ]
  },
  {
   "cell_type": "code",
   "execution_count": 4,
   "metadata": {
    "collapsed": true
   },
   "outputs": [
    {
     "output_type": "stream",
     "name": "stdout",
     "text": [
      "There are 13233 total human images.\nThere are 8351 total dog images.\n"
     ]
    }
   ],
   "source": [
    "# load filenames for human and dog images\n",
    "human_files = JPGImageDataset(root_dir='lfw')\n",
    "dog_files = JPGImageDataset(root_dir='dogImages')\n",
    "\n",
    "# print number of images in each dataset\n",
    "print('There are %d total human images.' % len(human_files))\n",
    "print('There are %d total dog images.' % len(dog_files))"
   ]
  },
  {
   "cell_type": "markdown",
   "metadata": {},
   "source": [
    "<a id='step1'></a>\n",
    "## Step 1: Detect Humans\n",
    "\n",
    "In this section, we use OpenCV's implementation of [Haar feature-based cascade classifiers](http://docs.opencv.org/trunk/d7/d8b/tutorial_py_face_detection.html) to detect human faces in images.  \n",
    "\n",
    "OpenCV provides many pre-trained face detectors, stored as XML files on [github](https://github.com/opencv/opencv/tree/master/data/haarcascades).  We have downloaded one of these detectors and stored it in the `haarcascades` directory.  In the next code cell, we demonstrate how to use this detector to find human faces in a sample image."
   ]
  },
  {
   "cell_type": "code",
   "execution_count": 5,
   "metadata": {},
   "outputs": [],
   "source": [
    "image_transformations = transforms.Compose([\n",
    "    transforms.Resize((255, 255)),\n",
    "    transforms.Grayscale(),\n",
    "    transforms.RandomHorizontalFlip()\n",
    "])"
   ]
  },
  {
   "cell_type": "code",
   "execution_count": 6,
   "metadata": {
    "collapsed": true
   },
   "outputs": [
    {
     "output_type": "stream",
     "name": "stdout",
     "text": [
      "Number of faces detected: 1\n"
     ]
    },
    {
     "output_type": "display_data",
     "data": {
      "text/plain": "<Figure size 432x288 with 1 Axes>",
      "image/svg+xml": "<?xml version=\"1.0\" encoding=\"utf-8\" standalone=\"no\"?>\r\n<!DOCTYPE svg PUBLIC \"-//W3C//DTD SVG 1.1//EN\"\r\n  \"http://www.w3.org/Graphics/SVG/1.1/DTD/svg11.dtd\">\r\n<svg height=\"231.84pt\" version=\"1.1\" viewBox=\"0 0 231.84 231.84\" width=\"231.84pt\" xmlns=\"http://www.w3.org/2000/svg\" xmlns:xlink=\"http://www.w3.org/1999/xlink\">\r\n <metadata>\r\n  <rdf:RDF xmlns:cc=\"http://creativecommons.org/ns#\" xmlns:dc=\"http://purl.org/dc/elements/1.1/\" xmlns:rdf=\"http://www.w3.org/1999/02/22-rdf-syntax-ns#\">\r\n   <cc:Work>\r\n    <dc:type rdf:resource=\"http://purl.org/dc/dcmitype/StillImage\"/>\r\n    <dc:date>2021-04-18T00:27:00.034845</dc:date>\r\n    <dc:format>image/svg+xml</dc:format>\r\n    <dc:creator>\r\n     <cc:Agent>\r\n      <dc:title>Matplotlib v3.4.1, https://matplotlib.org/</dc:title>\r\n     </cc:Agent>\r\n    </dc:creator>\r\n   </cc:Work>\r\n  </rdf:RDF>\r\n </metadata>\r\n <defs>\r\n  <style type=\"text/css\">*{stroke-linecap:butt;stroke-linejoin:round;}</style>\r\n </defs>\r\n <g id=\"figure_1\">\r\n  <g id=\"patch_1\">\r\n   <path d=\"M 0 231.84 \r\nL 231.84 231.84 \r\nL 231.84 0 \r\nL 0 0 \r\nz\r\n\" style=\"fill:none;\"/>\r\n  </g>\r\n  <g id=\"axes_1\">\r\n   <g clip-path=\"url(#p24cdfb8e77)\">\r\n    <image height=\"218\" id=\"image3e53b0383b\" transform=\"scale(1 -1)translate(0 -218)\" width=\"218\" x=\"7.2\" xlink:href=\"data:image/png;base64,\r\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\" y=\"-6.64\"/>\r\n   </g>\r\n  </g>\r\n </g>\r\n <defs>\r\n  <clipPath id=\"p24cdfb8e77\">\r\n   <rect height=\"217.44\" width=\"217.44\" x=\"7.2\" y=\"7.2\"/>\r\n  </clipPath>\r\n </defs>\r\n</svg>\r\n",
      "image/png": "[encoded data removed]"
     },
     "metadata": {
      "needs_background": "light"
     }
    }
   ],
   "source": [
    "import cv2                \n",
    "import matplotlib.pyplot as plt                        \n",
    "%matplotlib inline                         \n",
    "\n",
    "# extract pre-trained face detector\n",
    "face_cascade = cv2.CascadeClassifier('haarcascades/haarcascade_frontalface_alt.xml')\n",
    "\n",
    "# load color (BGR) image\n",
    "img = human_files[0]\n",
    "\n",
    "# find faces in image\n",
    "faces = face_cascade.detectMultiScale(img)\n",
    "\n",
    "# bring back original image\n",
    "img = human_files[0]\n",
    "\n",
    "# print number of faces detected in the image\n",
    "print('Number of faces detected:', len(faces))\n",
    "\n",
    "# get bounding box for each detected face\n",
    "for (x,y,w,h) in faces:\n",
    "    # add bounding box to color image\n",
    "    cv2.rectangle(img,(x,y),(x+w,y+h),(255,0,0),2)\n",
    "\n",
    "# display the image, along with bounding box\n",
    "plt.axis('off')\n",
    "plt.imshow(img)\n",
    "plt.show()"
   ]
  },
  {
   "cell_type": "markdown",
   "metadata": {},
   "source": [
    "Before using any of the face detectors, it is standard procedure to convert the images to grayscale.  The `detectMultiScale` function executes the classifier stored in `face_cascade` and takes the grayscale image as a parameter.  \n",
    "\n",
    "In the above code, `faces` is a numpy array of detected faces, where each row corresponds to a detected face.  Each detected face is a 1D array with four entries that specifies the bounding box of the detected face.  The first two entries in the array (extracted in the above code as `x` and `y`) specify the horizontal and vertical positions of the top left corner of the bounding box.  The last two entries in the array (extracted here as `w` and `h`) specify the width and height of the box.\n",
    "\n",
    "### Write a Human Face Detector\n",
    "\n",
    "We can use this procedure to write a function that returns `True` if a human face is detected in an image and `False` otherwise.  This function, aptly named `face_detector`, takes a string-valued file path to an image as input and appears in the code block below."
   ]
  },
  {
   "cell_type": "code",
   "execution_count": 7,
   "metadata": {
    "collapsed": true
   },
   "outputs": [],
   "source": [
    "# returns \"True\" if face is detected in image stored at img_path\n",
    "def face_detector(img):\n",
    "    # Read PIL Image\n",
    "    img = Image.fromarray(img)\n",
    "\n",
    "    # Apply transformations before using the calssifier \n",
    "    img = image_transformations(img)\n",
    "    img = np.array(img)\n",
    "\n",
    "    faces = face_cascade.detectMultiScale(img)\n",
    "    \n",
    "    return len(faces) > 0"
   ]
  },
  {
   "cell_type": "markdown",
   "metadata": {},
   "source": [
    "### (IMPLEMENTATION) Assess the Human Face Detector\n",
    "\n",
    "__Question 1:__ Use the code cell below to test the performance of the `face_detector` function.  \n",
    "- What percentage of the first 100 images in `human_files` have a detected human face?  \n",
    "- What percentage of the first 100 images in `dog_files` have a detected human face? \n",
    "\n",
    "Ideally, we would like 100% of human images with a detected face and 0% of dog images with a detected face.  You will see that our algorithm falls short of this goal, but still gives acceptable performance.  We extract the file paths for the first 100 images from each of the datasets and store them in the numpy arrays `human_files_short` and `dog_files_short`."
   ]
  },
  {
   "cell_type": "markdown",
   "metadata": {},
   "source": [
    "__Answer:__ \n",
    "(You can print out your results and/or write your percentages in this cell)"
   ]
  },
  {
   "cell_type": "code",
   "execution_count": 8,
   "metadata": {
    "collapsed": true
   },
   "outputs": [],
   "source": [
    "human_files_short = human_files[:100]\n",
    "dog_files_short = dog_files[:100]"
   ]
  },
  {
   "cell_type": "code",
   "execution_count": 9,
   "metadata": {},
   "outputs": [
    {
     "output_type": "stream",
     "name": "stderr",
     "text": [
      "100%|██████████| 100/100 [00:00<00:00, 107.86it/s]\n",
      "100%|██████████| 100/100 [00:01<00:00, 99.90it/s]\n",
      "\n",
      "\n",
      "Using OpenCV feature-based cascade classifier:\n",
      "Human faces detected: 98%\n",
      "Dog faces detected: 13%\n",
      "\n",
      "Execution time is approximately: 0:00:01.932174\n",
      "\n"
     ]
    }
   ],
   "source": [
    "## TODO: Test the performance of the face_detector algorithm \n",
    "## on the images in human_files_short and dog_files_short.\n",
    "\n",
    "start = timer()\n",
    "detected_human_faces = sum(1 for img in tqdm(human_files_short) if face_detector(img))\n",
    "detected_dog_faces = sum(1 for img in tqdm(dog_files_short) if face_detector(img))\n",
    "end = timer()\n",
    "\n",
    "print('\\n\\n')\n",
    "print('Using OpenCV feature-based cascade classifier:')\n",
    "print(f'Human faces detected: {detected_human_faces}%')\n",
    "print(f'Dog faces detected: {detected_dog_faces}%')\n",
    "print()\n",
    "\n",
    "print('Execution time is approximately:', timedelta(seconds=end-start))"
   ]
  },
  {
   "cell_type": "markdown",
   "metadata": {},
   "source": [
    "We suggest the face detector from OpenCV as a potential way to detect human images in your algorithm, but you are free to explore other approaches, especially approaches that make use of deep learning :).  Please use the code cell below to design and test your own face detection algorithm.  If you decide to pursue this _optional_ task, report performance on `human_files_short` and `dog_files_short`."
   ]
  },
  {
   "cell_type": "code",
   "execution_count": 10,
   "metadata": {},
   "outputs": [],
   "source": [
    "# returns \"True\" if face is detected in image stored at img_path\n",
    "def face_detector2(img):\n",
    "    # Read PIL Image\n",
    "    img = Image.fromarray(img)\n",
    "    \n",
    "    # Apply transformations before using the calssifier\n",
    "    img = image_transformations(img)\n",
    "    img = np.array(img)\n",
    "    img = cv2.cvtColor(img, cv2.COLOR_GRAY2RGB) #TODO: reconsider grayscale transformation, if you are going to bring colors back!\n",
    "\n",
    "    detector = MTCNN()\n",
    "    faces = detector.detect_faces(img)\n",
    "\n",
    "    return len(faces) > 0"
   ]
  },
  {
   "cell_type": "code",
   "execution_count": 137,
   "metadata": {},
   "outputs": [
    {
     "output_type": "stream",
     "name": "stderr",
     "text": [
      "100%|██████████| 100/100 [01:13<00:00,  1.36it/s]\n",
      "100%|██████████| 100/100 [01:07<00:00,  1.48it/s]\n",
      "\n",
      "\n",
      "Using MTCNN face detector:\n",
      "Human faces detected: 100%\n",
      "Dog faces detected: 5%\n",
      "\n",
      "Execution time is approximately:  0:02:21.178445\n",
      "\n"
     ]
    }
   ],
   "source": [
    "## TODO: Test the performance of the face_detector algorithm \n",
    "## on the images in human_files_short and dog_files_short.\n",
    "\n",
    "start = timer()\n",
    "detected_human_faces = sum(1 for img in tqdm(human_files_short) if face_detector2(img))\n",
    "detected_dog_faces = sum(1 for img in tqdm(dog_files_short) if face_detector2(img))\n",
    "end = timer()\n",
    "\n",
    "print('\\n\\n')\n",
    "print('Using MTCNN face detector:')\n",
    "print(f'Human faces detected: {detected_human_faces}%')\n",
    "print(f'Dog faces detected: {detected_dog_faces}%')\n",
    "print()\n",
    "\n",
    "print('Execution time is approximately: ', timedelta(seconds=end-start))"
   ]
  },
  {
   "cell_type": "markdown",
   "metadata": {},
   "source": [
    "---\n",
    "<a id='step2'></a>\n",
    "## Step 2: Detect Dogs\n",
    "\n",
    "In this section, we use a [pre-trained model](http://pytorch.org/docs/master/torchvision/models.html) to detect dogs in images.  \n",
    "\n",
    "### Obtain Pre-trained VGG-16 Model\n",
    "\n",
    "The code cell below downloads the VGG-16 model, along with weights that have been trained on [ImageNet](http://www.image-net.org/), a very large, very popular dataset used for image classification and other vision tasks.  ImageNet contains over 10 million URLs, each linking to an image containing an object from one of [1000 categories](https://gist.github.com/yrevar/942d3a0ac09ec9e5eb3a).  "
   ]
  },
  {
   "cell_type": "code",
   "execution_count": 141,
   "metadata": {
    "collapsed": true
   },
   "outputs": [],
   "source": [
    "# define VGG16 model\n",
    "VGG16 = models.vgg16(pretrained=True)\n",
    "\n",
    "# check if CUDA is available\n",
    "use_cuda = torch.cuda.is_available()\n",
    "\n",
    "# move model to GPU if CUDA is available\n",
    "if use_cuda:\n",
    "    VGG16 = VGG16.cuda()"
   ]
  },
  {
   "cell_type": "code",
   "execution_count": null,
   "metadata": {},
   "outputs": [],
   "source": []
  },
  {
   "cell_type": "markdown",
   "metadata": {},
   "source": [
    "Given an image, this pre-trained VGG-16 model returns a prediction (derived from the 1000 possible categories in ImageNet) for the object that is contained in the image."
   ]
  },
  {
   "cell_type": "markdown",
   "metadata": {},
   "source": [
    "### (IMPLEMENTATION) Making Predictions with a Pre-trained Model\n",
    "\n",
    "In the next code cell, you will write a function that accepts a path to an image (such as `'dogImages/train/001.Affenpinscher/Affenpinscher_00001.jpg'`) as input and returns the index corresponding to the ImageNet class that is predicted by the pre-trained VGG-16 model.  The output should always be an integer between 0 and 999, inclusive.\n",
    "\n",
    "Before writing the function, make sure that you take the time to learn  how to appropriately pre-process tensors for pre-trained models in the [PyTorch documentation](http://pytorch.org/docs/stable/torchvision/models.html)."
   ]
  },
  {
   "cell_type": "code",
   "execution_count": null,
   "metadata": {
    "collapsed": true
   },
   "outputs": [],
   "source": [
    "from PIL import Image\n",
    "import torchvision.transforms as transforms\n",
    "\n",
    "# Set PIL to be tolerant of image files that are truncated.\n",
    "from PIL import ImageFile\n",
    "ImageFile.LOAD_TRUNCATED_IMAGES = True\n",
    "\n",
    "def VGG16_predict(img_path):\n",
    "    '''\n",
    "    Use pre-trained VGG-16 model to obtain index corresponding to \n",
    "    predicted ImageNet class for image at specified path\n",
    "    \n",
    "    Args:\n",
    "        img_path: path to an image\n",
    "        \n",
    "    Returns:\n",
    "        Index corresponding to VGG-16 model's prediction\n",
    "    '''\n",
    "    \n",
    "    ## TODO: Complete the function.\n",
    "    ## Load and pre-process an image from the given img_path\n",
    "    ## Return the *index* of the predicted class for that image\n",
    "    \n",
    "    return None # predicted class index"
   ]
  },
  {
   "cell_type": "markdown",
   "metadata": {},
   "source": [
    "### (IMPLEMENTATION) Write a Dog Detector\n",
    "\n",
    "While looking at the [dictionary](https://gist.github.com/yrevar/942d3a0ac09ec9e5eb3a), you will notice that the categories corresponding to dogs appear in an uninterrupted sequence and correspond to dictionary keys 151-268, inclusive, to include all categories from `'Chihuahua'` to `'Mexican hairless'`.  Thus, in order to check to see if an image is predicted to contain a dog by the pre-trained VGG-16 model, we need only check if the pre-trained model predicts an index between 151 and 268 (inclusive).\n",
    "\n",
    "Use these ideas to complete the `dog_detector` function below, which returns `True` if a dog is detected in an image (and `False` if not)."
   ]
  },
  {
   "cell_type": "code",
   "execution_count": null,
   "metadata": {
    "collapsed": true
   },
   "outputs": [],
   "source": [
    "### returns \"True\" if a dog is detected in the image stored at img_path\n",
    "def dog_detector(img_path):\n",
    "    ## TODO: Complete the function.\n",
    "    \n",
    "    return None # true/false"
   ]
  },
  {
   "cell_type": "markdown",
   "metadata": {},
   "source": [
    "### (IMPLEMENTATION) Assess the Dog Detector\n",
    "\n",
    "__Question 2:__ Use the code cell below to test the performance of your `dog_detector` function.  \n",
    "- What percentage of the images in `human_files_short` have a detected dog?  \n",
    "- What percentage of the images in `dog_files_short` have a detected dog?"
   ]
  },
  {
   "cell_type": "markdown",
   "metadata": {},
   "source": [
    "__Answer:__ \n"
   ]
  },
  {
   "cell_type": "code",
   "execution_count": null,
   "metadata": {
    "collapsed": true
   },
   "outputs": [],
   "source": [
    "### TODO: Test the performance of the dog_detector function\n",
    "### on the images in human_files_short and dog_files_short.\n"
   ]
  },
  {
   "cell_type": "markdown",
   "metadata": {},
   "source": [
    "We suggest VGG-16 as a potential network to detect dog images in your algorithm, but you are free to explore other pre-trained networks (such as [Inception-v3](http://pytorch.org/docs/master/torchvision/models.html#inception-v3), [ResNet-50](http://pytorch.org/docs/master/torchvision/models.html#id3), etc).  Please use the code cell below to test other pre-trained PyTorch models.  If you decide to pursue this _optional_ task, report performance on `human_files_short` and `dog_files_short`."
   ]
  },
  {
   "cell_type": "code",
   "execution_count": null,
   "metadata": {
    "collapsed": true
   },
   "outputs": [],
   "source": [
    "### (Optional) \n",
    "### TODO: Report the performance of another pre-trained network.\n",
    "### Feel free to use as many code cells as needed."
   ]
  },
  {
   "cell_type": "markdown",
   "metadata": {},
   "source": [
    "---\n",
    "<a id='step3'></a>\n",
    "## Step 3: Create a CNN to Classify Dog Breeds (from Scratch)\n",
    "\n",
    "Now that we have functions for detecting humans and dogs in images, we need a way to predict breed from images.  In this step, you will create a CNN that classifies dog breeds.  You must create your CNN _from scratch_ (so, you can't use transfer learning _yet_!), and you must attain a test accuracy of at least 10%.  In Step 4 of this notebook, you will have the opportunity to use transfer learning to create a CNN that attains greatly improved accuracy.\n",
    "\n",
    "We mention that the task of assigning breed to dogs from images is considered exceptionally challenging.  To see why, consider that *even a human* would have trouble distinguishing between a Brittany and a Welsh Springer Spaniel.  \n",
    "\n",
    "Brittany | Welsh Springer Spaniel\n",
    "- | - \n",
    "<img src=\"images/Brittany_02625.jpg\" width=\"100\"> | <img src=\"images/Welsh_springer_spaniel_08203.jpg\" width=\"200\">\n",
    "\n",
    "It is not difficult to find other dog breed pairs with minimal inter-class variation (for instance, Curly-Coated Retrievers and American Water Spaniels).  \n",
    "\n",
    "Curly-Coated Retriever | American Water Spaniel\n",
    "- | -\n",
    "<img src=\"images/Curly-coated_retriever_03896.jpg\" width=\"200\"> | <img src=\"images/American_water_spaniel_00648.jpg\" width=\"200\">\n",
    "\n",
    "\n",
    "Likewise, recall that labradors come in yellow, chocolate, and black.  Your vision-based algorithm will have to conquer this high intra-class variation to determine how to classify all of these different shades as the same breed.  \n",
    "\n",
    "Yellow Labrador | Chocolate Labrador | Black Labrador\n",
    "- | -\n",
    "<img src=\"images/Labrador_retriever_06457.jpg\" width=\"150\"> | <img src=\"images/Labrador_retriever_06455.jpg\" width=\"240\"> | <img src=\"images/Labrador_retriever_06449.jpg\" width=\"220\">\n",
    "\n",
    "We also mention that random chance presents an exceptionally low bar: setting aside the fact that the classes are slightly imabalanced, a random guess will provide a correct answer roughly 1 in 133 times, which corresponds to an accuracy of less than 1%.  \n",
    "\n",
    "Remember that the practice is far ahead of the theory in deep learning.  Experiment with many different architectures, and trust your intuition.  And, of course, have fun!\n",
    "\n",
    "### (IMPLEMENTATION) Specify Data Loaders for the Dog Dataset\n",
    "\n",
    "Use the code cell below to write three separate [data loaders](http://pytorch.org/docs/stable/data.html#torch.utils.data.DataLoader) for the training, validation, and test datasets of dog images (located at `dogImages/train`, `dogImages/valid`, and `dogImages/test`, respectively).  You may find [this documentation on custom datasets](http://pytorch.org/docs/stable/torchvision/datasets.html) to be a useful resource.  If you are interested in augmenting your training and/or validation data, check out the wide variety of [transforms](http://pytorch.org/docs/stable/torchvision/transforms.html?highlight=transform)!"
   ]
  },
  {
   "cell_type": "code",
   "execution_count": null,
   "metadata": {
    "collapsed": true
   },
   "outputs": [],
   "source": [
    "import os\n",
    "from torchvision import datasets\n",
    "\n",
    "### TODO: Write data loaders for training, validation, and test sets\n",
    "## Specify appropriate transforms, and batch_sizes\n"
   ]
  },
  {
   "cell_type": "markdown",
   "metadata": {},
   "source": [
    "**Question 3:** Describe your chosen procedure for preprocessing the data. \n",
    "- How does your code resize the images (by cropping, stretching, etc)?  What size did you pick for the input tensor, and why?\n",
    "- Did you decide to augment the dataset?  If so, how (through translations, flips, rotations, etc)?  If not, why not?\n"
   ]
  },
  {
   "cell_type": "markdown",
   "metadata": {},
   "source": [
    "**Answer**:"
   ]
  },
  {
   "cell_type": "markdown",
   "metadata": {},
   "source": [
    "### (IMPLEMENTATION) Model Architecture\n",
    "\n",
    "Create a CNN to classify dog breed.  Use the template in the code cell below."
   ]
  },
  {
   "cell_type": "code",
   "execution_count": null,
   "metadata": {
    "collapsed": true
   },
   "outputs": [],
   "source": [
    "import torch.nn as nn\n",
    "import torch.nn.functional as F\n",
    "\n",
    "# define the CNN architecture\n",
    "class Net(nn.Module):\n",
    "    ### TODO: choose an architecture, and complete the class\n",
    "    def __init__(self):\n",
    "        super(Net, self).__init__()\n",
    "        ## Define layers of a CNN\n",
    "    \n",
    "    def forward(self, x):\n",
    "        ## Define forward behavior\n",
    "        return x\n",
    "\n",
    "#-#-# You do NOT have to modify the code below this line. #-#-#\n",
    "\n",
    "# instantiate the CNN\n",
    "model_scratch = Net()\n",
    "\n",
    "# move tensors to GPU if CUDA is available\n",
    "if use_cuda:\n",
    "    model_scratch.cuda()"
   ]
  },
  {
   "cell_type": "markdown",
   "metadata": {},
   "source": [
    "__Question 4:__ Outline the steps you took to get to your final CNN architecture and your reasoning at each step.  "
   ]
  },
  {
   "cell_type": "markdown",
   "metadata": {},
   "source": [
    "__Answer:__ "
   ]
  },
  {
   "cell_type": "markdown",
   "metadata": {},
   "source": [
    "### (IMPLEMENTATION) Specify Loss Function and Optimizer\n",
    "\n",
    "Use the next code cell to specify a [loss function](http://pytorch.org/docs/stable/nn.html#loss-functions) and [optimizer](http://pytorch.org/docs/stable/optim.html).  Save the chosen loss function as `criterion_scratch`, and the optimizer as `optimizer_scratch` below."
   ]
  },
  {
   "cell_type": "code",
   "execution_count": null,
   "metadata": {
    "collapsed": true
   },
   "outputs": [],
   "source": [
    "import torch.optim as optim\n",
    "\n",
    "### TODO: select loss function\n",
    "criterion_scratch = None\n",
    "\n",
    "### TODO: select optimizer\n",
    "optimizer_scratch = None"
   ]
  },
  {
   "cell_type": "markdown",
   "metadata": {},
   "source": [
    "### (IMPLEMENTATION) Train and Validate the Model\n",
    "\n",
    "Train and validate your model in the code cell below.  [Save the final model parameters](http://pytorch.org/docs/master/notes/serialization.html) at filepath `'model_scratch.pt'`."
   ]
  },
  {
   "cell_type": "code",
   "execution_count": null,
   "metadata": {
    "collapsed": true
   },
   "outputs": [],
   "source": [
    "# the following import is required for training to be robust to truncated images\n",
    "from PIL import ImageFile\n",
    "ImageFile.LOAD_TRUNCATED_IMAGES = True\n",
    "\n",
    "def train(n_epochs, loaders, model, optimizer, criterion, use_cuda, save_path):\n",
    "    \"\"\"returns trained model\"\"\"\n",
    "    # initialize tracker for minimum validation loss\n",
    "    valid_loss_min = np.Inf \n",
    "    \n",
    "    for epoch in range(1, n_epochs+1):\n",
    "        # initialize variables to monitor training and validation loss\n",
    "        train_loss = 0.0\n",
    "        valid_loss = 0.0\n",
    "        \n",
    "        ###################\n",
    "        # train the model #\n",
    "        ###################\n",
    "        model.train()\n",
    "        for batch_idx, (data, target) in enumerate(loaders['train']):\n",
    "            # move to GPU\n",
    "            if use_cuda:\n",
    "                data, target = data.cuda(), target.cuda()\n",
    "            ## find the loss and update the model parameters accordingly\n",
    "            ## record the average training loss, using something like\n",
    "            ## train_loss = train_loss + ((1 / (batch_idx + 1)) * (loss.data - train_loss))\n",
    "            \n",
    "        ######################    \n",
    "        # validate the model #\n",
    "        ######################\n",
    "        model.eval()\n",
    "        for batch_idx, (data, target) in enumerate(loaders['valid']):\n",
    "            # move to GPU\n",
    "            if use_cuda:\n",
    "                data, target = data.cuda(), target.cuda()\n",
    "            ## update the average validation loss\n",
    "\n",
    "            \n",
    "        # print training/validation statistics \n",
    "        print('Epoch: {} \\tTraining Loss: {:.6f} \\tValidation Loss: {:.6f}'.format(\n",
    "            epoch, \n",
    "            train_loss,\n",
    "            valid_loss\n",
    "            ))\n",
    "        \n",
    "        ## TODO: save the model if validation loss has decreased\n",
    "            \n",
    "    # return trained model\n",
    "    return model\n",
    "\n",
    "\n",
    "# train the model\n",
    "model_scratch = train(100, loaders_scratch, model_scratch, optimizer_scratch, \n",
    "                      criterion_scratch, use_cuda, 'model_scratch.pt')\n",
    "\n",
    "# load the model that got the best validation accuracy\n",
    "model_scratch.load_state_dict(torch.load('model_scratch.pt'))"
   ]
  },
  {
   "cell_type": "markdown",
   "metadata": {},
   "source": [
    "### (IMPLEMENTATION) Test the Model\n",
    "\n",
    "Try out your model on the test dataset of dog images.  Use the code cell below to calculate and print the test loss and accuracy.  Ensure that your test accuracy is greater than 10%."
   ]
  },
  {
   "cell_type": "code",
   "execution_count": null,
   "metadata": {
    "collapsed": true
   },
   "outputs": [],
   "source": [
    "def test(loaders, model, criterion, use_cuda):\n",
    "\n",
    "    # monitor test loss and accuracy\n",
    "    test_loss = 0.\n",
    "    correct = 0.\n",
    "    total = 0.\n",
    "\n",
    "    model.eval()\n",
    "    for batch_idx, (data, target) in enumerate(loaders['test']):\n",
    "        # move to GPU\n",
    "        if use_cuda:\n",
    "            data, target = data.cuda(), target.cuda()\n",
    "        # forward pass: compute predicted outputs by passing inputs to the model\n",
    "        output = model(data)\n",
    "        # calculate the loss\n",
    "        loss = criterion(output, target)\n",
    "        # update average test loss \n",
    "        test_loss = test_loss + ((1 / (batch_idx + 1)) * (loss.data - test_loss))\n",
    "        # convert output probabilities to predicted class\n",
    "        pred = output.data.max(1, keepdim=True)[1]\n",
    "        # compare predictions to true label\n",
    "        correct += np.sum(np.squeeze(pred.eq(target.data.view_as(pred))).cpu().numpy())\n",
    "        total += data.size(0)\n",
    "            \n",
    "    print('Test Loss: {:.6f}\\n'.format(test_loss))\n",
    "\n",
    "    print('\\nTest Accuracy: %2d%% (%2d/%2d)' % (\n",
    "        100. * correct / total, correct, total))\n",
    "\n",
    "# call test function    \n",
    "test(loaders_scratch, model_scratch, criterion_scratch, use_cuda)"
   ]
  },
  {
   "cell_type": "markdown",
   "metadata": {},
   "source": [
    "---\n",
    "<a id='step4'></a>\n",
    "## Step 4: Create a CNN to Classify Dog Breeds (using Transfer Learning)\n",
    "\n",
    "You will now use transfer learning to create a CNN that can identify dog breed from images.  Your CNN must attain at least 60% accuracy on the test set.\n",
    "\n",
    "### (IMPLEMENTATION) Specify Data Loaders for the Dog Dataset\n",
    "\n",
    "Use the code cell below to write three separate [data loaders](http://pytorch.org/docs/master/data.html#torch.utils.data.DataLoader) for the training, validation, and test datasets of dog images (located at `dogImages/train`, `dogImages/valid`, and `dogImages/test`, respectively). \n",
    "\n",
    "If you like, **you are welcome to use the same data loaders from the previous step**, when you created a CNN from scratch."
   ]
  },
  {
   "cell_type": "code",
   "execution_count": null,
   "metadata": {
    "collapsed": true
   },
   "outputs": [],
   "source": [
    "## TODO: Specify data loaders\n"
   ]
  },
  {
   "cell_type": "markdown",
   "metadata": {},
   "source": [
    "### (IMPLEMENTATION) Model Architecture\n",
    "\n",
    "Use transfer learning to create a CNN to classify dog breed.  Use the code cell below, and save your initialized model as the variable `model_transfer`."
   ]
  },
  {
   "cell_type": "code",
   "execution_count": null,
   "metadata": {
    "collapsed": true
   },
   "outputs": [],
   "source": [
    "import torchvision.models as models\n",
    "import torch.nn as nn\n",
    "\n",
    "## TODO: Specify model architecture \n",
    "\n",
    "\n",
    "if use_cuda:\n",
    "    model_transfer = model_transfer.cuda()"
   ]
  },
  {
   "cell_type": "markdown",
   "metadata": {},
   "source": [
    "__Question 5:__ Outline the steps you took to get to your final CNN architecture and your reasoning at each step.  Describe why you think the architecture is suitable for the current problem."
   ]
  },
  {
   "cell_type": "markdown",
   "metadata": {},
   "source": [
    "__Answer:__ \n"
   ]
  },
  {
   "cell_type": "markdown",
   "metadata": {},
   "source": [
    "### (IMPLEMENTATION) Specify Loss Function and Optimizer\n",
    "\n",
    "Use the next code cell to specify a [loss function](http://pytorch.org/docs/master/nn.html#loss-functions) and [optimizer](http://pytorch.org/docs/master/optim.html).  Save the chosen loss function as `criterion_transfer`, and the optimizer as `optimizer_transfer` below."
   ]
  },
  {
   "cell_type": "code",
   "execution_count": null,
   "metadata": {
    "collapsed": true
   },
   "outputs": [],
   "source": [
    "criterion_transfer = None\n",
    "optimizer_transfer = None"
   ]
  },
  {
   "cell_type": "markdown",
   "metadata": {},
   "source": [
    "### (IMPLEMENTATION) Train and Validate the Model\n",
    "\n",
    "Train and validate your model in the code cell below.  [Save the final model parameters](http://pytorch.org/docs/master/notes/serialization.html) at filepath `'model_transfer.pt'`."
   ]
  },
  {
   "cell_type": "code",
   "execution_count": null,
   "metadata": {
    "collapsed": true
   },
   "outputs": [],
   "source": [
    "# train the model\n",
    "model_transfer = # train(n_epochs, loaders_transfer, model_transfer, optimizer_transfer, criterion_transfer, use_cuda, 'model_transfer.pt')\n",
    "\n",
    "# load the model that got the best validation accuracy (uncomment the line below)\n",
    "#model_transfer.load_state_dict(torch.load('model_transfer.pt'))"
   ]
  },
  {
   "cell_type": "markdown",
   "metadata": {},
   "source": [
    "### (IMPLEMENTATION) Test the Model\n",
    "\n",
    "Try out your model on the test dataset of dog images. Use the code cell below to calculate and print the test loss and accuracy.  Ensure that your test accuracy is greater than 60%."
   ]
  },
  {
   "cell_type": "code",
   "execution_count": null,
   "metadata": {
    "collapsed": true
   },
   "outputs": [],
   "source": [
    "test(loaders_transfer, model_transfer, criterion_transfer, use_cuda)"
   ]
  },
  {
   "cell_type": "markdown",
   "metadata": {},
   "source": [
    "### (IMPLEMENTATION) Predict Dog Breed with the Model\n",
    "\n",
    "Write a function that takes an image path as input and returns the dog breed (`Affenpinscher`, `Afghan hound`, etc) that is predicted by your model.  "
   ]
  },
  {
   "cell_type": "code",
   "execution_count": null,
   "metadata": {
    "collapsed": true
   },
   "outputs": [],
   "source": [
    "### TODO: Write a function that takes a path to an image as input\n",
    "### and returns the dog breed that is predicted by the model.\n",
    "\n",
    "# list of class names by index, i.e. a name can be accessed like class_names[0]\n",
    "class_names = [item[4:].replace(\"_\", \" \") for item in data_transfer['train'].classes]\n",
    "\n",
    "def predict_breed_transfer(img_path):\n",
    "    # load the image and return the predicted breed\n",
    "    return None"
   ]
  },
  {
   "cell_type": "markdown",
   "metadata": {},
   "source": [
    "---\n",
    "<a id='step5'></a>\n",
    "## Step 5: Write your Algorithm\n",
    "\n",
    "Write an algorithm that accepts a file path to an image and first determines whether the image contains a human, dog, or neither.  Then,\n",
    "- if a __dog__ is detected in the image, return the predicted breed.\n",
    "- if a __human__ is detected in the image, return the resembling dog breed.\n",
    "- if __neither__ is detected in the image, provide output that indicates an error.\n",
    "\n",
    "You are welcome to write your own functions for detecting humans and dogs in images, but feel free to use the `face_detector` and `dog_detector` functions developed above.  You are __required__ to use your CNN from Step 4 to predict dog breed.  \n",
    "\n",
    "Some sample output for our algorithm is provided below, but feel free to design your own user experience!\n",
    "\n",
    "![Sample Human Output](images/sample_human_output.png)\n",
    "\n",
    "\n",
    "### (IMPLEMENTATION) Write your Algorithm"
   ]
  },
  {
   "cell_type": "code",
   "execution_count": null,
   "metadata": {
    "collapsed": true
   },
   "outputs": [],
   "source": [
    "### TODO: Write your algorithm.\n",
    "### Feel free to use as many code cells as needed.\n",
    "\n",
    "def run_app(img_path):\n",
    "    ## handle cases for a human face, dog, and neither\n",
    "    \n"
   ]
  },
  {
   "cell_type": "markdown",
   "metadata": {},
   "source": [
    "---\n",
    "<a id='step6'></a>\n",
    "## Step 6: Test Your Algorithm\n",
    "\n",
    "In this section, you will take your new algorithm for a spin!  What kind of dog does the algorithm think that _you_ look like?  If you have a dog, does it predict your dog's breed accurately?  If you have a cat, does it mistakenly think that your cat is a dog?\n",
    "\n",
    "### (IMPLEMENTATION) Test Your Algorithm on Sample Images!\n",
    "\n",
    "Test your algorithm at least six images on your computer.  Feel free to use any images you like.  Use at least two human and two dog images.  \n",
    "\n",
    "__Question 6:__ Is the output better than you expected :) ?  Or worse :( ?  Provide at least three possible points of improvement for your algorithm."
   ]
  },
  {
   "cell_type": "markdown",
   "metadata": {},
   "source": [
    "__Answer:__ (Three possible points for improvement)"
   ]
  },
  {
   "cell_type": "code",
   "execution_count": null,
   "metadata": {
    "collapsed": true
   },
   "outputs": [],
   "source": [
    "## TODO: Execute your algorithm from Step 6 on\n",
    "## at least 6 images on your computer.\n",
    "## Feel free to use as many code cells as needed.\n",
    "\n",
    "## suggested code, below\n",
    "for file in np.hstack((human_files[:3], dog_files[:3])):\n",
    "    run_app(file)"
   ]
  }
 ],
 "metadata": {
  "anaconda-cloud": {},
  "kernelspec": {
   "name": "python388jvsc74a57bd0d48cf9b68c6c8f555fd09c405a56f678cadafeee28f6bb64d07afca1d9e66a37",
   "display_name": "Python 3.8.8 64-bit"
  },
  "language_info": {
   "codemirror_mode": {
    "name": "ipython",
    "version": 3
   },
   "file_extension": ".py",
   "mimetype": "text/x-python",
   "name": "python",
   "nbconvert_exporter": "python",
   "pygments_lexer": "ipython3",
   "version": "3.8.8"
  }
 },
 "nbformat": 4,
 "nbformat_minor": 1
}