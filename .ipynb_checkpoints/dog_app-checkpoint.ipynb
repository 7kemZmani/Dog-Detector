{
 "cells": [
  {
   "cell_type": "markdown",
   "metadata": {},
   "source": [
    "# Convolutional Neural Networks\n",
    "\n",
    "## Project: Write an Algorithm for a Dog Identification App \n",
    "\n",
    "---\n",
    "\n",
    "In this notebook, some template code has already been provided for you, and you will need to implement additional functionality to successfully complete this project. You will not need to modify the included code beyond what is requested. Sections that begin with **'(IMPLEMENTATION)'** in the header indicate that the following block of code will require additional functionality which you must provide. Instructions will be provided for each section, and the specifics of the implementation are marked in the code block with a 'TODO' statement. Please be sure to read the instructions carefully! \n",
    "\n",
    "> **Note**: Once you have completed all of the code implementations, you need to finalize your work by exporting the Jupyter Notebook as an HTML document. Before exporting the notebook to html, all of the code cells need to have been run so that reviewers can see the final implementation and output. You can then export the notebook by using the menu above and navigating to **File -> Download as -> HTML (.html)**. Include the finished document along with this notebook as your submission.\n",
    "\n",
    "In addition to implementing code, there will be questions that you must answer which relate to the project and your implementation. Each section where you will answer a question is preceded by a **'Question X'** header. Carefully read each question and provide thorough answers in the following text boxes that begin with **'Answer:'**. Your project submission will be evaluated based on your answers to each of the questions and the implementation you provide.\n",
    "\n",
    ">**Note:** Code and Markdown cells can be executed using the **Shift + Enter** keyboard shortcut.  Markdown cells can be edited by double-clicking the cell to enter edit mode.\n",
    "\n",
    "The rubric contains _optional_ \"Stand Out Suggestions\" for enhancing the project beyond the minimum requirements. If you decide to pursue the \"Stand Out Suggestions\", you should include the code in this Jupyter notebook.\n",
    "\n",
    "\n",
    "\n",
    "---\n",
    "### Why We're Here \n",
    "\n",
    "In this notebook, you will make the first steps towards developing an algorithm that could be used as part of a mobile or web app.  At the end of this project, your code will accept any user-supplied image as input.  If a dog is detected in the image, it will provide an estimate of the dog's breed.  If a human is detected, it will provide an estimate of the dog breed that is most resembling.  The image below displays potential sample output of your finished project (... but we expect that each student's algorithm will behave differently!). \n",
    "\n",
    "![Sample Dog Output](images/sample_dog_output.png)\n",
    "\n",
    "In this real-world setting, you will need to piece together a series of models to perform different tasks; for instance, the algorithm that detects humans in an image will be different from the CNN that infers dog breed.  There are many points of possible failure, and no perfect algorithm exists.  Your imperfect solution will nonetheless create a fun user experience!\n",
    "\n",
    "### The Road Ahead\n",
    "\n",
    "We break the notebook into separate steps.  Feel free to use the links below to navigate the notebook.\n",
    "\n",
    "* [Step 0](#step0): Import Datasets\n",
    "* [Step 1](#step1): Detect Humans\n",
    "* [Step 2](#step2): Detect Dogs\n",
    "* [Step 3](#step3): Create a CNN to Classify Dog Breeds (from Scratch)\n",
    "* [Step 4](#step4): Create a CNN to Classify Dog Breeds (using Transfer Learning)\n",
    "* [Step 5](#step5): Write your Algorithm\n",
    "* [Step 6](#step6): Test Your Algorithm\n",
    "\n",
    "---\n",
    "<a id='step0'></a>\n",
    "## Step 0: Import Datasets\n",
    "\n",
    "Make sure that you've downloaded the required human and dog datasets:\n",
    "* Download the [dog dataset](https://s3-us-west-1.amazonaws.com/udacity-aind/dog-project/dogImages.zip).  Unzip the folder and place it in this project's home directory, at the location `/dogImages`. \n",
    "\n",
    "* Download the [human dataset](https://s3-us-west-1.amazonaws.com/udacity-aind/dog-project/lfw.zip).  Unzip the folder and place it in the home directory, at location `/lfw`.  \n",
    "\n",
    "*Note: If you are using a Windows machine, you are encouraged to use [7zip](http://www.7-zip.org/) to extract the folder.*\n",
    "\n",
    "In the code cell below, we save the file paths for both the human (LFW) dataset and dog dataset in the numpy arrays `human_files` and `dog_files`."
   ]
  },
  {
   "cell_type": "code",
   "execution_count": 1,
   "metadata": {},
   "outputs": [],
   "source": [
    "from tqdm import tqdm\n",
    "from timeit import default_timer as timer\n",
    "from datetime import timedelta\n",
    "import numpy as np\n",
    "from skimage import io\n",
    "from pathlib import Path\n",
    "from itertools import chain, combinations\n",
    "from PIL import Image\n",
    "import matplotlib.pyplot as plt\n",
    "import torch\n",
    "from torch.utils.data import Dataset, DataLoader\n",
    "import torchvision\n",
    "from torchvision import transforms, utils, models\n",
    "from mtcnn.mtcnn import MTCNN\n",
    "import tensorflow as tf\n",
    "import logging\n",
    "tf.get_logger().setLevel(logging.ERROR)"
   ]
  },
  {
   "cell_type": "code",
   "execution_count": 2,
   "metadata": {},
   "outputs": [],
   "source": [
    "class JPGImageDataset(Dataset):\n",
    "    \"\"\" A utility class to read jpg images in a direcotry \"\"\"\n",
    "\n",
    "    def __init__(self, root_dir='.'):\n",
    "        \"\"\"\n",
    "        Args:\n",
    "            root_dir (string): Directory with all the images.\n",
    "            transform (callable, optional): Optional transform to be applied\n",
    "                on a sample.\n",
    "        \"\"\"\n",
    "        self.root_dir = Path(root_dir).absolute()\n",
    "        self.images = list(self.root_dir.glob('**/*.jpg'))\n",
    "\n",
    "    def __getitem__(self, index):\n",
    "        images = self.images[index]\n",
    "        images = [io.imread(m) for m in images] if type(images) is list else io.imread(images)\n",
    "\n",
    "        return images\n",
    "\n",
    "    def __len__(self):\n",
    "        return len(self.images)"
   ]
  },
  {
   "cell_type": "code",
   "execution_count": 3,
   "metadata": {
    "collapsed": true
   },
   "outputs": [
    {
     "output_type": "stream",
     "name": "stdout",
     "text": [
      "There are 13233 total human images.\nThere are 8351 total dog images.\n"
     ]
    }
   ],
   "source": [
    "# load filenames for human and dog images\n",
    "human_files = JPGImageDataset(root_dir='lfw')\n",
    "dog_files = JPGImageDataset(root_dir='dogImages')\n",
    "\n",
    "# print number of images in each dataset\n",
    "print('There are %d total human images.' % len(human_files))\n",
    "print('There are %d total dog images.' % len(dog_files))"
   ]
  },
  {
   "cell_type": "markdown",
   "metadata": {},
   "source": [
    "<a id='step1'></a>\n",
    "## Step 1: Detect Humans\n",
    "\n",
    "In this section, we use OpenCV's implementation of [Haar feature-based cascade classifiers](http://docs.opencv.org/trunk/d7/d8b/tutorial_py_face_detection.html) to detect human faces in images.  \n",
    "\n",
    "OpenCV provides many pre-trained face detectors, stored as XML files on [github](https://github.com/opencv/opencv/tree/master/data/haarcascades).  We have downloaded one of these detectors and stored it in the `haarcascades` directory.  In the next code cell, we demonstrate how to use this detector to find human faces in a sample image."
   ]
  },
  {
   "cell_type": "code",
   "execution_count": 7,
   "metadata": {},
   "outputs": [
    {
     "output_type": "error",
     "ename": "TypeError",
     "evalue": "__init__() missing 1 required positional argument: 'transforms'",
     "traceback": [
      "\u001b[1;31m---------------------------------------------------------------------------\u001b[0m",
      "\u001b[1;31mTypeError\u001b[0m                                 Traceback (most recent call last)",
      "\u001b[1;32m<ipython-input-7-59f7d666c7a6>\u001b[0m in \u001b[0;36m<module>\u001b[1;34m\u001b[0m\n\u001b[0;32m      2\u001b[0m     \u001b[0mtransforms\u001b[0m\u001b[1;33m.\u001b[0m\u001b[0mResize\u001b[0m\u001b[1;33m(\u001b[0m\u001b[1;33m(\u001b[0m\u001b[1;36m255\u001b[0m\u001b[1;33m,\u001b[0m \u001b[1;36m255\u001b[0m\u001b[1;33m)\u001b[0m\u001b[1;33m)\u001b[0m\u001b[1;33m,\u001b[0m\u001b[1;33m\u001b[0m\u001b[1;33m\u001b[0m\u001b[0m\n\u001b[0;32m      3\u001b[0m     \u001b[0mtransforms\u001b[0m\u001b[1;33m.\u001b[0m\u001b[0mRandomHorizontalFlip\u001b[0m\u001b[1;33m(\u001b[0m\u001b[1;33m)\u001b[0m\u001b[1;33m,\u001b[0m\u001b[1;33m\u001b[0m\u001b[1;33m\u001b[0m\u001b[0m\n\u001b[1;32m----> 4\u001b[1;33m     \u001b[0mtransforms\u001b[0m\u001b[1;33m.\u001b[0m\u001b[0mRandomChoice\u001b[0m\u001b[1;33m(\u001b[0m\u001b[1;33m)\u001b[0m\u001b[1;33m\u001b[0m\u001b[1;33m\u001b[0m\u001b[0m\n\u001b[0m\u001b[0;32m      5\u001b[0m ])\n",
      "\u001b[1;31mTypeError\u001b[0m: __init__() missing 1 required positional argument: 'transforms'"
     ]
    }
   ],
   "source": [
    "image_transformations = transforms.Compose([\n",
    "    transforms.Resize((255, 255)),\n",
    "    transforms.RandomHorizontalFlip(),\n",
    "    transforms.RandomChoice()\n",
    "])"
   ]
  },
  {
   "cell_type": "code",
   "execution_count": 6,
   "metadata": {
    "collapsed": true
   },
   "outputs": [
    {
     "output_type": "stream",
     "name": "stdout",
     "text": [
      "Number of faces detected: 1\n"
     ]
    },
    {
     "output_type": "display_data",
     "data": {
      "text/plain": "<Figure size 432x288 with 1 Axes>",
      "image/svg+xml": "<?xml version=\"1.0\" encoding=\"utf-8\" standalone=\"no\"?>\r\n<!DOCTYPE svg PUBLIC \"-//W3C//DTD SVG 1.1//EN\"\r\n  \"http://www.w3.org/Graphics/SVG/1.1/DTD/svg11.dtd\">\r\n<svg height=\"231.84pt\" version=\"1.1\" viewBox=\"0 0 231.84 231.84\" width=\"231.84pt\" xmlns=\"http://www.w3.org/2000/svg\" xmlns:xlink=\"http://www.w3.org/1999/xlink\">\r\n <metadata>\r\n  <rdf:RDF xmlns:cc=\"http://creativecommons.org/ns#\" xmlns:dc=\"http://purl.org/dc/elements/1.1/\" xmlns:rdf=\"http://www.w3.org/1999/02/22-rdf-syntax-ns#\">\r\n   <cc:Work>\r\n    <dc:type rdf:resource=\"http://purl.org/dc/dcmitype/StillImage\"/>\r\n    <dc:date>2021-05-13T03:15:28.597833</dc:date>\r\n    <dc:format>image/svg+xml</dc:format>\r\n    <dc:creator>\r\n     <cc:Agent>\r\n      <dc:title>Matplotlib v3.4.1, https://matplotlib.org/</dc:title>\r\n     </cc:Agent>\r\n    </dc:creator>\r\n   </cc:Work>\r\n  </rdf:RDF>\r\n </metadata>\r\n <defs>\r\n  <style type=\"text/css\">*{stroke-linecap:butt;stroke-linejoin:round;}</style>\r\n </defs>\r\n <g id=\"figure_1\">\r\n  <g id=\"patch_1\">\r\n   <path d=\"M 0 231.84 \r\nL 231.84 231.84 \r\nL 231.84 0 \r\nL 0 0 \r\nz\r\n\" style=\"fill:none;\"/>\r\n  </g>\r\n  <g id=\"axes_1\">\r\n   <g clip-path=\"url(#pc8e9d24b79)\">\r\n    <image height=\"218\" id=\"image01696ffc0f\" transform=\"scale(1 -1)translate(0 -218)\" width=\"218\" x=\"7.2\" xlink:href=\"data:image/png;base64,\r\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\" y=\"-6.64\"/>\r\n   </g>\r\n  </g>\r\n </g>\r\n <defs>\r\n  <clipPath id=\"pc8e9d24b79\">\r\n   <rect height=\"217.44\" width=\"217.44\" x=\"7.2\" y=\"7.2\"/>\r\n  </clipPath>\r\n </defs>\r\n</svg>\r\n",
      "image/png": "[encoded data removed]"
     },
     "metadata": {
      "needs_background": "light"
     }
    }
   ],
   "source": [
    "import cv2                \n",
    "import matplotlib.pyplot as plt                        \n",
    "%matplotlib inline                         \n",
    "\n",
    "# extract pre-trained face detector\n",
    "face_cascade = cv2.CascadeClassifier('haarcascades/haarcascade_frontalface_alt.xml')\n",
    "\n",
    "# load color (BGR) image\n",
    "img = human_files[0]\n",
    "img = Image.fromarray(img)\n",
    "img = image_transformations(img)\n",
    "img = np.array(img, dtype=np.uint8)\n",
    "\n",
    "# find faces in image\n",
    "faces = face_cascade.detectMultiScale(img)\n",
    "\n",
    "# print number of faces detected in the image\n",
    "print('Number of faces detected:', len(faces))\n",
    "\n",
    "# get bounding box for each detected face\n",
    "for (x,y,w,h) in faces:\n",
    "    # add bounding box to color image\n",
    "    cv2.rectangle(img,(x,y),(x+w,y+h),(255,0,0),2)\n",
    "\n",
    "# display the image, along with bounding box\n",
    "plt.axis('off')\n",
    "plt.imshow(img)\n",
    "plt.show()"
   ]
  },
  {
   "cell_type": "markdown",
   "metadata": {},
   "source": [
    "Before using any of the face detectors, it is standard procedure to convert the images to grayscale.  The `detectMultiScale` function executes the classifier stored in `face_cascade` and takes the grayscale image as a parameter.  \n",
    "\n",
    "In the above code, `faces` is a numpy array of detected faces, where each row corresponds to a detected face.  Each detected face is a 1D array with four entries that specifies the bounding box of the detected face.  The first two entries in the array (extracted in the above code as `x` and `y`) specify the horizontal and vertical positions of the top left corner of the bounding box.  The last two entries in the array (extracted here as `w` and `h`) specify the width and height of the box.\n",
    "\n",
    "### Write a Human Face Detector\n",
    "\n",
    "We can use this procedure to write a function that returns `True` if a human face is detected in an image and `False` otherwise.  This function, aptly named `face_detector`, takes a string-valued file path to an image as input and appears in the code block below."
   ]
  },
  {
   "cell_type": "code",
   "execution_count": 9,
   "metadata": {
    "collapsed": true
   },
   "outputs": [],
   "source": [
    "# returns \"True\" if face is detected in image stored at img_path\n",
    "def face_detector(img):\n",
    "    # Read PIL Image\n",
    "    img = Image.fromarray(img)\n",
    "\n",
    "    # Apply transformations before using the calssifier \n",
    "    img = image_transformations(img)\n",
    "    img = np.array(img)\n",
    "\n",
    "    faces = face_cascade.detectMultiScale(img)\n",
    "    \n",
    "    return len(faces) > 0"
   ]
  },
  {
   "cell_type": "markdown",
   "metadata": {},
   "source": [
    "### (IMPLEMENTATION) Assess the Human Face Detector\n",
    "\n",
    "__Question 1:__ Use the code cell below to test the performance of the `face_detector` function.  \n",
    "- What percentage of the first 100 images in `human_files` have a detected human face?  \n",
    "- What percentage of the first 100 images in `dog_files` have a detected human face? \n",
    "\n",
    "Ideally, we would like 100% of human images with a detected face and 0% of dog images with a detected face.  You will see that our algorithm falls short of this goal, but still gives acceptable performance.  We extract the file paths for the first 100 images from each of the datasets and store them in the numpy arrays `human_files_short` and `dog_files_short`."
   ]
  },
  {
   "cell_type": "markdown",
   "metadata": {},
   "source": [
    "__Answer:__ \n",
    "(You can print out your results and/or write your percentages in this cell)"
   ]
  },
  {
   "cell_type": "code",
   "execution_count": 10,
   "metadata": {
    "collapsed": true
   },
   "outputs": [],
   "source": [
    "human_files_short = human_files[:100]\n",
    "dog_files_short = dog_files[:100]"
   ]
  },
  {
   "cell_type": "code",
   "execution_count": 11,
   "metadata": {},
   "outputs": [
    {
     "output_type": "stream",
     "name": "stderr",
     "text": [
      "100%|██████████| 100/100 [00:00<00:00, 110.00it/s]\n",
      "100%|██████████| 100/100 [00:00<00:00, 102.15it/s]\n",
      "\n",
      "\n",
      "Using OpenCV feature-based cascade classifier:\n",
      "Human faces detected: 94%\n",
      "Dog faces detected: 9%\n",
      "\n",
      "Execution time is approximately: 0:00:01.892366\n",
      "\n"
     ]
    }
   ],
   "source": [
    "## TODO: Test the performance of the face_detector algorithm \n",
    "## on the images in human_files_short and dog_files_short.\n",
    "\n",
    "start = timer()\n",
    "detected_human_faces = sum(1 for img in tqdm(human_files_short) if face_detector(img))\n",
    "detected_dog_faces = sum(1 for img in tqdm(dog_files_short) if face_detector(img))\n",
    "end = timer()\n",
    "\n",
    "print('\\n\\n')\n",
    "print('Using OpenCV feature-based cascade classifier:')\n",
    "print(f'Human faces detected: {detected_human_faces}%')\n",
    "print(f'Dog faces detected: {detected_dog_faces}%')\n",
    "print()\n",
    "\n",
    "print('Execution time is approximately:', timedelta(seconds=end-start))"
   ]
  },
  {
   "cell_type": "markdown",
   "metadata": {},
   "source": [
    "We suggest the face detector from OpenCV as a potential way to detect human images in your algorithm, but you are free to explore other approaches, especially approaches that make use of deep learning :).  Please use the code cell below to design and test your own face detection algorithm.  If you decide to pursue this _optional_ task, report performance on `human_files_short` and `dog_files_short`."
   ]
  },
  {
   "cell_type": "code",
   "execution_count": 12,
   "metadata": {},
   "outputs": [],
   "source": [
    "# returns \"True\" if face is detected in image stored at img_path\n",
    "def face_detector2(img):\n",
    "    # Read PIL Image\n",
    "    # img = Image.fromarray(img)\n",
    "    \n",
    "    # Apply transformations before using the calssifier\n",
    "    # img = image_transformations(img)\n",
    "    # img = np.array(img)\n",
    "    # img = cv2.cvtColor(img, cv2.COLOR_GRAY2RGB) #TODO: reconsider grayscale transformation, if you are going to bring colors back!\n",
    "\n",
    "    detector = MTCNN()\n",
    "    faces = detector.detect_faces(img)\n",
    "\n",
    "    return len(faces) > 0"
   ]
  },
  {
   "cell_type": "code",
   "execution_count": 14,
   "metadata": {},
   "outputs": [],
   "source": [
    "# returns \"True\" if face is detected in image stored at img_path\n",
    "def face_detector4(img):\n",
    "    # Read PIL Image\n",
    "    img = Image.fromarray(img)\n",
    "    \n",
    "    # Apply transformations before using the calssifier\n",
    "    img = image_transformations(img)\n",
    "    img = np.array(img)\n",
    "    img = cv2.cvtColor(img, cv2.COLOR_GRAY2RGB) #TODO: reconsider grayscale transformation, if you are going to bring colors back!\n",
    "\n",
    "    detector = MTCNN()\n",
    "    faces = detector.detect_faces(img)\n",
    "\n",
    "    return len(faces) > 0"
   ]
  },
  {
   "cell_type": "code",
   "execution_count": 13,
   "metadata": {},
   "outputs": [
    {
     "output_type": "stream",
     "name": "stderr",
     "text": [
      "100%|██████████| 100/100 [01:12<00:00,  1.37it/s]\n",
      "100%|██████████| 100/100 [01:18<00:00,  1.27it/s]\n",
      "\n",
      "\n",
      "Using MTCNN face detector:\n",
      "Human faces detected: 100%\n",
      "Dog faces detected: 18%\n",
      "\n",
      "Execution time is approximately:  0:02:31.609855\n",
      "\n"
     ]
    }
   ],
   "source": [
    "## TODO: Test the performance of the face_detector algorithm \n",
    "## on the images in human_files_short and dog_files_short.\n",
    "\n",
    "start = timer()\n",
    "detected_human_faces = sum(1 for img in tqdm(human_files_short) if face_detector2(img))\n",
    "detected_dog_faces = sum(1 for img in tqdm(dog_files_short) if face_detector2(img))\n",
    "end = timer()\n",
    "\n",
    "print('\\n\\n')\n",
    "print('Using MTCNN face detector:')\n",
    "print(f'Human faces detected: {detected_human_faces}%')\n",
    "print(f'Dog faces detected: {detected_dog_faces}%')\n",
    "print()\n",
    "\n",
    "print('Execution time is approximately: ', timedelta(seconds=end-start))"
   ]
  },
  {
   "cell_type": "code",
   "execution_count": 15,
   "metadata": {},
   "outputs": [
    {
     "output_type": "stream",
     "name": "stderr",
     "text": [
      "100%|██████████| 100/100 [01:09<00:00,  1.43it/s]\n",
      "100%|██████████| 100/100 [01:03<00:00,  1.57it/s]\n",
      "\n",
      "\n",
      "Using MTCNN face detector:\n",
      "Human faces detected: 100%\n",
      "Dog faces detected: 5%\n",
      "\n",
      "Execution time is approximately:  0:02:13.800707\n",
      "\n"
     ]
    }
   ],
   "source": [
    "## TODO: Test the performance of the face_detector algorithm \n",
    "## on the images in human_files_short and dog_files_short.\n",
    "\n",
    "start = timer()\n",
    "detected_human_faces = sum(1 for img in tqdm(human_files_short) if face_detector4(img))\n",
    "detected_dog_faces = sum(1 for img in tqdm(dog_files_short) if face_detector4(img))\n",
    "end = timer()\n",
    "\n",
    "print('\\n\\n')\n",
    "print('Using MTCNN face detector:')\n",
    "print(f'Human faces detected: {detected_human_faces}%')\n",
    "print(f'Dog faces detected: {detected_dog_faces}%')\n",
    "print()\n",
    "\n",
    "print('Execution time is approximately: ', timedelta(seconds=end-start))"
   ]
  },
  {
   "cell_type": "markdown",
   "metadata": {},
   "source": [
    "---\n",
    "<a id='step2'></a>\n",
    "## Step 2: Detect Dogs\n",
    "\n",
    "In this section, we use a [pre-trained model](http://pytorch.org/docs/master/torchvision/models.html) to detect dogs in images.  \n",
    "\n",
    "### Obtain Pre-trained VGG-16 Model\n",
    "\n",
    "The code cell below downloads the VGG-16 model, along with weights that have been trained on [ImageNet](http://www.image-net.org/), a very large, very popular dataset used for image classification and other vision tasks.  ImageNet contains over 10 million URLs, each linking to an image containing an object from one of [1000 categories](https://gist.github.com/yrevar/942d3a0ac09ec9e5eb3a).  "
   ]
  },
  {
   "cell_type": "code",
   "execution_count": 16,
   "metadata": {
    "collapsed": true
   },
   "outputs": [],
   "source": [
    "# define VGG16 model\n",
    "VGG16 = models.vgg16(pretrained=True)\n",
    "\n",
    "# check if CUDA is available\n",
    "use_cuda = torch.cuda.is_available()\n",
    "\n",
    "# move model to GPU if CUDA is available\n",
    "if use_cuda:\n",
    "    VGG16 = VGG16.cuda()"
   ]
  },
  {
   "cell_type": "markdown",
   "metadata": {},
   "source": [
    "Given an image, this pre-trained VGG-16 model returns a prediction (derived from the 1000 possible categories in ImageNet) for the object that is contained in the image."
   ]
  },
  {
   "cell_type": "markdown",
   "metadata": {},
   "source": [
    "### (IMPLEMENTATION) Making Predictions with a Pre-trained Model\n",
    "\n",
    "In the next code cell, you will write a function that accepts a path to an image (such as `'dogImages/train/001.Affenpinscher/Affenpinscher_00001.jpg'`) as input and returns the index corresponding to the ImageNet class that is predicted by the pre-trained VGG-16 model.  The output should always be an integer between 0 and 999, inclusive.\n",
    "\n",
    "Before writing the function, make sure that you take the time to learn  how to appropriately pre-process tensors for pre-trained models in the [PyTorch documentation](http://pytorch.org/docs/stable/torchvision/models.html)."
   ]
  },
  {
   "cell_type": "code",
   "execution_count": null,
   "metadata": {
    "collapsed": true
   },
   "outputs": [],
   "source": [
    "from PIL import Image\n",
    "import torchvision.transforms as transforms\n",
    "\n",
    "# Set PIL to be tolerant of image files that are truncated.\n",
    "# from PIL import ImageFile\n",
    "# ImageFile.LOAD_TRUNCATED_IMAGES = True\n",
    "\n",
    "def VGG16_predict(img_path):\n",
    "    '''\n",
    "    Use pre-trained VGG-16 model to obtain index corresponding to \n",
    "    predicted ImageNet class for image at specified path\n",
    "    \n",
    "    Args:\n",
    "        img_path: path to an image\n",
    "        \n",
    "    Returns:\n",
    "        Index corresponding to VGG-16 model's prediction\n",
    "    '''\n",
    "    \n",
    "    ## TODO: Complete the function.\n",
    "    ## Load and pre-process an image from the given img_path\n",
    "    ## Return the *index* of the predicted class for that image\n",
    "    \n",
    "    return None # predicted class index"
   ]
  },
  {
   "cell_type": "markdown",
   "metadata": {},
   "source": [
    "### (IMPLEMENTATION) Write a Dog Detector\n",
    "\n",
    "While looking at the [dictionary](https://gist.github.com/yrevar/942d3a0ac09ec9e5eb3a), you will notice that the categories corresponding to dogs appear in an uninterrupted sequence and correspond to dictionary keys 151-268, inclusive, to include all categories from `'Chihuahua'` to `'Mexican hairless'`.  Thus, in order to check to see if an image is predicted to contain a dog by the pre-trained VGG-16 model, we need only check if the pre-trained model predicts an index between 151 and 268 (inclusive).\n",
    "\n",
    "Use these ideas to complete the `dog_detector` function below, which returns `True` if a dog is detected in an image (and `False` if not)."
   ]
  },
  {
   "cell_type": "code",
   "execution_count": null,
   "metadata": {
    "collapsed": true
   },
   "outputs": [],
   "source": [
    "### returns \"True\" if a dog is detected in the image stored at img_path\n",
    "def dog_detector(img_path):\n",
    "    ## TODO: Complete the function.\n",
    "    \n",
    "    return None # true/false"
   ]
  },
  {
   "cell_type": "markdown",
   "metadata": {},
   "source": [
    "### (IMPLEMENTATION) Assess the Dog Detector\n",
    "\n",
    "__Question 2:__ Use the code cell below to test the performance of your `dog_detector` function.  \n",
    "- What percentage of the images in `human_files_short` have a detected dog?  \n",
    "- What percentage of the images in `dog_files_short` have a detected dog?"
   ]
  },
  {
   "cell_type": "markdown",
   "metadata": {},
   "source": [
    "__Answer:__ \n"
   ]
  },
  {
   "cell_type": "code",
   "execution_count": null,
   "metadata": {
    "collapsed": true
   },
   "outputs": [],
   "source": [
    "### TODO: Test the performance of the dog_detector function\n",
    "### on the images in human_files_short and dog_files_short.\n"
   ]
  },
  {
   "cell_type": "markdown",
   "metadata": {},
   "source": [
    "We suggest VGG-16 as a potential network to detect dog images in your algorithm, but you are free to explore other pre-trained networks (such as [Inception-v3](http://pytorch.org/docs/master/torchvision/models.html#inception-v3), [ResNet-50](http://pytorch.org/docs/master/torchvision/models.html#id3), etc).  Please use the code cell below to test other pre-trained PyTorch models.  If you decide to pursue this _optional_ task, report performance on `human_files_short` and `dog_files_short`."
   ]
  },
  {
   "cell_type": "code",
   "execution_count": null,
   "metadata": {
    "collapsed": true
   },
   "outputs": [],
   "source": [
    "### (Optional) \n",
    "### TODO: Report the performance of another pre-trained network.\n",
    "### Feel free to use as many code cells as needed."
   ]
  },
  {
   "cell_type": "markdown",
   "metadata": {},
   "source": [
    "---\n",
    "<a id='step3'></a>\n",
    "## Step 3: Create a CNN to Classify Dog Breeds (from Scratch)\n",
    "\n",
    "Now that we have functions for detecting humans and dogs in images, we need a way to predict breed from images.  In this step, you will create a CNN that classifies dog breeds.  You must create your CNN _from scratch_ (so, you can't use transfer learning _yet_!), and you must attain a test accuracy of at least 10%.  In Step 4 of this notebook, you will have the opportunity to use transfer learning to create a CNN that attains greatly improved accuracy.\n",
    "\n",
    "We mention that the task of assigning breed to dogs from images is considered exceptionally challenging.  To see why, consider that *even a human* would have trouble distinguishing between a Brittany and a Welsh Springer Spaniel.  \n",
    "\n",
    "Brittany | Welsh Springer Spaniel\n",
    "- | - \n",
    "<img src=\"images/Brittany_02625.jpg\" width=\"100\"> | <img src=\"images/Welsh_springer_spaniel_08203.jpg\" width=\"200\">\n",
    "\n",
    "It is not difficult to find other dog breed pairs with minimal inter-class variation (for instance, Curly-Coated Retrievers and American Water Spaniels).  \n",
    "\n",
    "Curly-Coated Retriever | American Water Spaniel\n",
    "- | -\n",
    "<img src=\"images/Curly-coated_retriever_03896.jpg\" width=\"200\"> | <img src=\"images/American_water_spaniel_00648.jpg\" width=\"200\">\n",
    "\n",
    "\n",
    "Likewise, recall that labradors come in yellow, chocolate, and black.  Your vision-based algorithm will have to conquer this high intra-class variation to determine how to classify all of these different shades as the same breed.  \n",
    "\n",
    "Yellow Labrador | Chocolate Labrador | Black Labrador\n",
    "- | -\n",
    "<img src=\"images/Labrador_retriever_06457.jpg\" width=\"150\"> | <img src=\"images/Labrador_retriever_06455.jpg\" width=\"240\"> | <img src=\"images/Labrador_retriever_06449.jpg\" width=\"220\">\n",
    "\n",
    "We also mention that random chance presents an exceptionally low bar: setting aside the fact that the classes are slightly imabalanced, a random guess will provide a correct answer roughly 1 in 133 times, which corresponds to an accuracy of less than 1%.  \n",
    "\n",
    "Remember that the practice is far ahead of the theory in deep learning.  Experiment with many different architectures, and trust your intuition.  And, of course, have fun!\n",
    "\n",
    "### (IMPLEMENTATION) Specify Data Loaders for the Dog Dataset\n",
    "\n",
    "Use the code cell below to write three separate [data loaders](http://pytorch.org/docs/stable/data.html#torch.utils.data.DataLoader) for the training, validation, and test datasets of dog images (located at `dogImages/train`, `dogImages/valid`, and `dogImages/test`, respectively).  You may find [this documentation on custom datasets](http://pytorch.org/docs/stable/torchvision/datasets.html) to be a useful resource.  If you are interested in augmenting your training and/or validation data, check out the wide variety of [transforms](http://pytorch.org/docs/stable/torchvision/transforms.html?highlight=transform)!"
   ]
  },
  {
   "cell_type": "code",
   "execution_count": null,
   "metadata": {
    "collapsed": true
   },
   "outputs": [],
   "source": [
    "import os\n",
    "from torchvision import datasets\n",
    "\n",
    "### TODO: Write data loaders for training, validation, and test sets\n",
    "## Specify appropriate transforms, and batch_sizes\n"
   ]
  },
  {
   "cell_type": "markdown",
   "metadata": {},
   "source": [
    "**Question 3:** Describe your chosen procedure for preprocessing the data. \n",
    "- How does your code resize the images (by cropping, stretching, etc)?  What size did you pick for the input tensor, and why?\n",
    "- Did you decide to augment the dataset?  If so, how (through translations, flips, rotations, etc)?  If not, why not?\n"
   ]
  },
  {
   "cell_type": "markdown",
   "metadata": {},
   "source": [
    "**Answer**:"
   ]
  },
  {
   "cell_type": "markdown",
   "metadata": {},
   "source": [
    "### (IMPLEMENTATION) Model Architecture\n",
    "\n",
    "Create a CNN to classify dog breed.  Use the template in the code cell below."
   ]
  },
  {
   "cell_type": "code",
   "execution_count": null,
   "metadata": {
    "collapsed": true
   },
   "outputs": [],
   "source": [
    "import torch.nn as nn\n",
    "import torch.nn.functional as F\n",
    "\n",
    "# define the CNN architecture\n",
    "class Net(nn.Module):\n",
    "    ### TODO: choose an architecture, and complete the class\n",
    "    def __init__(self):\n",
    "        super(Net, self).__init__()\n",
    "        ## Define layers of a CNN\n",
    "    \n",
    "    def forward(self, x):\n",
    "        ## Define forward behavior\n",
    "        return x\n",
    "\n",
    "#-#-# You do NOT have to modify the code below this line. #-#-#\n",
    "\n",
    "# instantiate the CNN\n",
    "model_scratch = Net()\n",
    "\n",
    "# move tensors to GPU if CUDA is available\n",
    "if use_cuda:\n",
    "    model_scratch.cuda()"
   ]
  },
  {
   "cell_type": "markdown",
   "metadata": {},
   "source": [
    "__Question 4:__ Outline the steps you took to get to your final CNN architecture and your reasoning at each step.  "
   ]
  },
  {
   "cell_type": "markdown",
   "metadata": {},
   "source": [
    "__Answer:__ "
   ]
  },
  {
   "cell_type": "markdown",
   "metadata": {},
   "source": [
    "### (IMPLEMENTATION) Specify Loss Function and Optimizer\n",
    "\n",
    "Use the next code cell to specify a [loss function](http://pytorch.org/docs/stable/nn.html#loss-functions) and [optimizer](http://pytorch.org/docs/stable/optim.html).  Save the chosen loss function as `criterion_scratch`, and the optimizer as `optimizer_scratch` below."
   ]
  },
  {
   "cell_type": "code",
   "execution_count": null,
   "metadata": {
    "collapsed": true
   },
   "outputs": [],
   "source": [
    "import torch.optim as optim\n",
    "\n",
    "### TODO: select loss function\n",
    "criterion_scratch = None\n",
    "\n",
    "### TODO: select optimizer\n",
    "optimizer_scratch = None"
   ]
  },
  {
   "cell_type": "markdown",
   "metadata": {},
   "source": [
    "### (IMPLEMENTATION) Train and Validate the Model\n",
    "\n",
    "Train and validate your model in the code cell below.  [Save the final model parameters](http://pytorch.org/docs/master/notes/serialization.html) at filepath `'model_scratch.pt'`."
   ]
  },
  {
   "cell_type": "code",
   "execution_count": null,
   "metadata": {
    "collapsed": true
   },
   "outputs": [],
   "source": [
    "# the following import is required for training to be robust to truncated images\n",
    "from PIL import ImageFile\n",
    "ImageFile.LOAD_TRUNCATED_IMAGES = True\n",
    "\n",
    "def train(n_epochs, loaders, model, optimizer, criterion, use_cuda, save_path):\n",
    "    \"\"\"returns trained model\"\"\"\n",
    "    # initialize tracker for minimum validation loss\n",
    "    valid_loss_min = np.Inf \n",
    "    \n",
    "    for epoch in range(1, n_epochs+1):\n",
    "        # initialize variables to monitor training and validation loss\n",
    "        train_loss = 0.0\n",
    "        valid_loss = 0.0\n",
    "        \n",
    "        ###################\n",
    "        # train the model #\n",
    "        ###################\n",
    "        model.train()\n",
    "        for batch_idx, (data, target) in enumerate(loaders['train']):\n",
    "            # move to GPU\n",
    "            if use_cuda:\n",
    "                data, target = data.cuda(), target.cuda()\n",
    "            ## find the loss and update the model parameters accordingly\n",
    "            ## record the average training loss, using something like\n",
    "            ## train_loss = train_loss + ((1 / (batch_idx + 1)) * (loss.data - train_loss))\n",
    "            \n",
    "        ######################    \n",
    "        # validate the model #\n",
    "        ######################\n",
    "        model.eval()\n",
    "        for batch_idx, (data, target) in enumerate(loaders['valid']):\n",
    "            # move to GPU\n",
    "            if use_cuda:\n",
    "                data, target = data.cuda(), target.cuda()\n",
    "            ## update the average validation loss\n",
    "\n",
    "            \n",
    "        # print training/validation statistics \n",
    "        print('Epoch: {} \\tTraining Loss: {:.6f} \\tValidation Loss: {:.6f}'.format(\n",
    "            epoch, \n",
    "            train_loss,\n",
    "            valid_loss\n",
    "            ))\n",
    "        \n",
    "        ## TODO: save the model if validation loss has decreased\n",
    "            \n",
    "    # return trained model\n",
    "    return model\n",
    "\n",
    "\n",
    "# train the model\n",
    "model_scratch = train(100, loaders_scratch, model_scratch, optimizer_scratch, \n",
    "                      criterion_scratch, use_cuda, 'model_scratch.pt')\n",
    "\n",
    "# load the model that got the best validation accuracy\n",
    "model_scratch.load_state_dict(torch.load('model_scratch.pt'))"
   ]
  },
  {
   "cell_type": "markdown",
   "metadata": {},
   "source": [
    "### (IMPLEMENTATION) Test the Model\n",
    "\n",
    "Try out your model on the test dataset of dog images.  Use the code cell below to calculate and print the test loss and accuracy.  Ensure that your test accuracy is greater than 10%."
   ]
  },
  {
   "cell_type": "code",
   "execution_count": null,
   "metadata": {
    "collapsed": true
   },
   "outputs": [],
   "source": [
    "def test(loaders, model, criterion, use_cuda):\n",
    "\n",
    "    # monitor test loss and accuracy\n",
    "    test_loss = 0.\n",
    "    correct = 0.\n",
    "    total = 0.\n",
    "\n",
    "    model.eval()\n",
    "    for batch_idx, (data, target) in enumerate(loaders['test']):\n",
    "        # move to GPU\n",
    "        if use_cuda:\n",
    "            data, target = data.cuda(), target.cuda()\n",
    "        # forward pass: compute predicted outputs by passing inputs to the model\n",
    "        output = model(data)\n",
    "        # calculate the loss\n",
    "        loss = criterion(output, target)\n",
    "        # update average test loss \n",
    "        test_loss = test_loss + ((1 / (batch_idx + 1)) * (loss.data - test_loss))\n",
    "        # convert output probabilities to predicted class\n",
    "        pred = output.data.max(1, keepdim=True)[1]\n",
    "        # compare predictions to true label\n",
    "        correct += np.sum(np.squeeze(pred.eq(target.data.view_as(pred))).cpu().numpy())\n",
    "        total += data.size(0)\n",
    "            \n",
    "    print('Test Loss: {:.6f}\\n'.format(test_loss))\n",
    "\n",
    "    print('\\nTest Accuracy: %2d%% (%2d/%2d)' % (\n",
    "        100. * correct / total, correct, total))\n",
    "\n",
    "# call test function    \n",
    "test(loaders_scratch, model_scratch, criterion_scratch, use_cuda)"
   ]
  },
  {
   "cell_type": "markdown",
   "metadata": {},
   "source": [
    "---\n",
    "<a id='step4'></a>\n",
    "## Step 4: Create a CNN to Classify Dog Breeds (using Transfer Learning)\n",
    "\n",
    "You will now use transfer learning to create a CNN that can identify dog breed from images.  Your CNN must attain at least 60% accuracy on the test set.\n",
    "\n",
    "### (IMPLEMENTATION) Specify Data Loaders for the Dog Dataset\n",
    "\n",
    "Use the code cell below to write three separate [data loaders](http://pytorch.org/docs/master/data.html#torch.utils.data.DataLoader) for the training, validation, and test datasets of dog images (located at `dogImages/train`, `dogImages/valid`, and `dogImages/test`, respectively). \n",
    "\n",
    "If you like, **you are welcome to use the same data loaders from the previous step**, when you created a CNN from scratch."
   ]
  },
  {
   "cell_type": "code",
   "execution_count": null,
   "metadata": {
    "collapsed": true
   },
   "outputs": [],
   "source": [
    "## TODO: Specify data loaders\n"
   ]
  },
  {
   "cell_type": "markdown",
   "metadata": {},
   "source": [
    "### (IMPLEMENTATION) Model Architecture\n",
    "\n",
    "Use transfer learning to create a CNN to classify dog breed.  Use the code cell below, and save your initialized model as the variable `model_transfer`."
   ]
  },
  {
   "cell_type": "code",
   "execution_count": null,
   "metadata": {
    "collapsed": true
   },
   "outputs": [],
   "source": [
    "import torchvision.models as models\n",
    "import torch.nn as nn\n",
    "\n",
    "## TODO: Specify model architecture \n",
    "\n",
    "\n",
    "if use_cuda:\n",
    "    model_transfer = model_transfer.cuda()"
   ]
  },
  {
   "cell_type": "markdown",
   "metadata": {},
   "source": [
    "__Question 5:__ Outline the steps you took to get to your final CNN architecture and your reasoning at each step.  Describe why you think the architecture is suitable for the current problem."
   ]
  },
  {
   "cell_type": "markdown",
   "metadata": {},
   "source": [
    "__Answer:__ \n"
   ]
  },
  {
   "cell_type": "markdown",
   "metadata": {},
   "source": [
    "### (IMPLEMENTATION) Specify Loss Function and Optimizer\n",
    "\n",
    "Use the next code cell to specify a [loss function](http://pytorch.org/docs/master/nn.html#loss-functions) and [optimizer](http://pytorch.org/docs/master/optim.html).  Save the chosen loss function as `criterion_transfer`, and the optimizer as `optimizer_transfer` below."
   ]
  },
  {
   "cell_type": "code",
   "execution_count": null,
   "metadata": {
    "collapsed": true
   },
   "outputs": [],
   "source": [
    "criterion_transfer = None\n",
    "optimizer_transfer = None"
   ]
  },
  {
   "cell_type": "markdown",
   "metadata": {},
   "source": [
    "### (IMPLEMENTATION) Train and Validate the Model\n",
    "\n",
    "Train and validate your model in the code cell below.  [Save the final model parameters](http://pytorch.org/docs/master/notes/serialization.html) at filepath `'model_transfer.pt'`."
   ]
  },
  {
   "cell_type": "code",
   "execution_count": null,
   "metadata": {
    "collapsed": true
   },
   "outputs": [],
   "source": [
    "# train the model\n",
    "model_transfer = # train(n_epochs, loaders_transfer, model_transfer, optimizer_transfer, criterion_transfer, use_cuda, 'model_transfer.pt')\n",
    "\n",
    "# load the model that got the best validation accuracy (uncomment the line below)\n",
    "#model_transfer.load_state_dict(torch.load('model_transfer.pt'))"
   ]
  },
  {
   "cell_type": "markdown",
   "metadata": {},
   "source": [
    "### (IMPLEMENTATION) Test the Model\n",
    "\n",
    "Try out your model on the test dataset of dog images. Use the code cell below to calculate and print the test loss and accuracy.  Ensure that your test accuracy is greater than 60%."
   ]
  },
  {
   "cell_type": "code",
   "execution_count": null,
   "metadata": {
    "collapsed": true
   },
   "outputs": [],
   "source": [
    "test(loaders_transfer, model_transfer, criterion_transfer, use_cuda)"
   ]
  },
  {
   "cell_type": "markdown",
   "metadata": {},
   "source": [
    "### (IMPLEMENTATION) Predict Dog Breed with the Model\n",
    "\n",
    "Write a function that takes an image path as input and returns the dog breed (`Affenpinscher`, `Afghan hound`, etc) that is predicted by your model.  "
   ]
  },
  {
   "cell_type": "code",
   "execution_count": null,
   "metadata": {
    "collapsed": true
   },
   "outputs": [],
   "source": [
    "### TODO: Write a function that takes a path to an image as input\n",
    "### and returns the dog breed that is predicted by the model.\n",
    "\n",
    "# list of class names by index, i.e. a name can be accessed like class_names[0]\n",
    "class_names = [item[4:].replace(\"_\", \" \") for item in data_transfer['train'].classes]\n",
    "\n",
    "def predict_breed_transfer(img_path):\n",
    "    # load the image and return the predicted breed\n",
    "    return None"
   ]
  },
  {
   "cell_type": "markdown",
   "metadata": {},
   "source": [
    "---\n",
    "<a id='step5'></a>\n",
    "## Step 5: Write your Algorithm\n",
    "\n",
    "Write an algorithm that accepts a file path to an image and first determines whether the image contains a human, dog, or neither.  Then,\n",
    "- if a __dog__ is detected in the image, return the predicted breed.\n",
    "- if a __human__ is detected in the image, return the resembling dog breed.\n",
    "- if __neither__ is detected in the image, provide output that indicates an error.\n",
    "\n",
    "You are welcome to write your own functions for detecting humans and dogs in images, but feel free to use the `face_detector` and `dog_detector` functions developed above.  You are __required__ to use your CNN from Step 4 to predict dog breed.  \n",
    "\n",
    "Some sample output for our algorithm is provided below, but feel free to design your own user experience!\n",
    "\n",
    "![Sample Human Output](images/sample_human_output.png)\n",
    "\n",
    "\n",
    "### (IMPLEMENTATION) Write your Algorithm"
   ]
  },
  {
   "cell_type": "code",
   "execution_count": null,
   "metadata": {
    "collapsed": true
   },
   "outputs": [],
   "source": [
    "### TODO: Write your algorithm.\n",
    "### Feel free to use as many code cells as needed.\n",
    "\n",
    "def run_app(img_path):\n",
    "    ## handle cases for a human face, dog, and neither\n",
    "    \n"
   ]
  },
  {
   "cell_type": "markdown",
   "metadata": {},
   "source": [
    "---\n",
    "<a id='step6'></a>\n",
    "## Step 6: Test Your Algorithm\n",
    "\n",
    "In this section, you will take your new algorithm for a spin!  What kind of dog does the algorithm think that _you_ look like?  If you have a dog, does it predict your dog's breed accurately?  If you have a cat, does it mistakenly think that your cat is a dog?\n",
    "\n",
    "### (IMPLEMENTATION) Test Your Algorithm on Sample Images!\n",
    "\n",
    "Test your algorithm at least six images on your computer.  Feel free to use any images you like.  Use at least two human and two dog images.  \n",
    "\n",
    "__Question 6:__ Is the output better than you expected :) ?  Or worse :( ?  Provide at least three possible points of improvement for your algorithm."
   ]
  },
  {
   "cell_type": "markdown",
   "metadata": {},
   "source": [
    "__Answer:__ (Three possible points for improvement)"
   ]
  },
  {
   "cell_type": "code",
   "execution_count": null,
   "metadata": {
    "collapsed": true
   },
   "outputs": [],
   "source": [
    "## TODO: Execute your algorithm from Step 6 on\n",
    "## at least 6 images on your computer.\n",
    "## Feel free to use as many code cells as needed.\n",
    "\n",
    "## suggested code, below\n",
    "for file in np.hstack((human_files[:3], dog_files[:3])):\n",
    "    run_app(file)"
   ]
  }
 ],
 "metadata": {
  "anaconda-cloud": {},
  "kernelspec": {
   "name": "python388jvsc74a57bd0d48cf9b68c6c8f555fd09c405a56f678cadafeee28f6bb64d07afca1d9e66a37",
   "display_name": "Python 3.8.8 64-bit"
  },
  "language_info": {
   "codemirror_mode": {
    "name": "ipython",
    "version": 3
   },
   "file_extension": ".py",
   "mimetype": "text/x-python",
   "name": "python",
   "nbconvert_exporter": "python",
   "pygments_lexer": "ipython3",
   "version": "3.8.8"
  }
 },
 "nbformat": 4,
 "nbformat_minor": 1
}