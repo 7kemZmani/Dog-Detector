{
 "cells": [
  {
   "cell_type": "code",
   "execution_count": 1,
   "metadata": {},
   "outputs": [],
   "source": [
    "# from tqdm import tqdm\n",
    "# from timeit import default_timer as timer\n",
    "# from datetime import timedelta\n",
    "# import numpy as np\n",
    "import os\n",
    "from glob import glob\n",
    "from skimage import io\n",
    "# from itertools import chain, combinations\n",
    "# from PIL import Image\n",
    "# import matplotlib.pyplot as plt\n",
    "import torch\n",
    "from torch.utils.data import Dataset, DataLoader\n",
    "# import torchvision\n",
    "# from torchvision import transforms, utils, models\n",
    "# from mtcnn.mtcnn import MTCNN\n",
    "# import tensorflow as tf\n",
    "# import logging\n",
    "# tf.get_logger().setLevel(logging.ERROR)"
   ]
  },
  {
   "cell_type": "code",
   "execution_count": 6,
   "metadata": {},
   "outputs": [],
   "source": [
    "class JPGImageDataset(Dataset):\n",
    "    \"\"\" A utility class to read jpg images in a direcotry \"\"\"\n",
    "\n",
    "    def __init__(self, root_dir='.'):\n",
    "        \"\"\"\n",
    "        Args:\n",
    "            root_dir (string): Directory where images\n",
    "            transform (callable, optional): Optional transform to be applied on a sample.\n",
    "        \"\"\"\n",
    "        self.root_dir = os.path.abspath(root_dir)\n",
    "        assert os.path.exists(self.root_dir), \"Directory dosen't exists\"\n",
    "\n",
    "        self.images = list(glob(self.root_dir + '/**/*.jpg', recursive=True))\n",
    "        assert len(self.images) > 1, \"No jpg images found in the provided direcotry\"\n",
    "\n",
    "\n",
    "    def __getitem__(self, index):\n",
    "        images = self.images[index]\n",
    "        images = [io.imread(m) for m in images] if type(images) is list else io.imread(images)\n",
    "\n",
    "        return images\n",
    "\n",
    "    def __len__(self):\n",
    "        return len(self.images)"
   ]
  },
  {
   "cell_type": "code",
   "execution_count": 7,
   "metadata": {},
   "outputs": [
    {
     "name": "stdout",
     "output_type": "stream",
     "text": [
      "There are 13233 total human images.\n",
      "There are 6680 total dog images.\n"
     ]
    }
   ],
   "source": [
    "# load filenames for human and dog images\n",
    "human_files = JPGImageDataset(root_dir='lfw')\n",
    "dog_files = JPGImageDataset(root_dir='dogImages/train')\n",
    "\n",
    "# print number of images in each dataset\n",
    "print('There are %d total human images.' % len(human_files))\n",
    "print('There are %d total dog images.' % len(dog_files))"
   ]
  },
  {
   "cell_type": "code",
   "execution_count": 10,
   "metadata": {},
   "outputs": [],
   "source": [
    "human_files_loader = DataLoader(human_files, shuffle=True)"
   ]
  },
  {
   "cell_type": "code",
   "execution_count": 13,
   "metadata": {},
   "outputs": [
    {
     "data": {
      "text/plain": [
       "0"
      ]
     },
     "execution_count": 13,
     "metadata": {},
     "output_type": "execute_result"
    }
   ],
   "source": [
    "human_files_loader.num_workers"
   ]
  },
  {
   "cell_type": "code",
   "execution_count": null,
   "metadata": {},
   "outputs": [],
   "source": []
  }
 ],
 "metadata": {
  "interpreter": {
   "hash": "aee8b7b246df8f9039afb4144a1f6fd8d2ca17a180786b69acc140d282b71a49"
  },
  "kernelspec": {
   "display_name": "Python 3.9.6 64-bit",
   "name": "python3"
  },
  "language_info": {
   "name": "python",
   "version": ""
  },
  "orig_nbformat": 4
 },
 "nbformat": 4,
 "nbformat_minor": 2
}